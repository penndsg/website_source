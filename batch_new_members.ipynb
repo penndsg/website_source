{
 "cells": [
  {
   "cell_type": "markdown",
   "metadata": {},
   "source": [
    "# Create Multiple New Member Profiles\n",
    "\n",
    "To use this, open the Google Sheet entitled \"PDSG Signup Form (Responses)\" and click `File > Download as > Comma-separated values (.csv, current sheet)`. Either copy that file to this directory and rename it as `pdsg_signup.csv` or change `CSV_PATH` below to point to the file"
   ]
  },
  {
   "cell_type": "code",
   "execution_count": 69,
   "metadata": {
    "collapsed": true
   },
   "outputs": [],
   "source": [
    "CSV_PATH = 'pdsg_signup.csv'"
   ]
  },
  {
   "cell_type": "markdown",
   "metadata": {},
   "source": [
    "After that just run the remaining cells, and the script will automatically generate member profiles for every person who signed up, said they wanted to work on team projects, AND don't already have a profile."
   ]
  },
  {
   "cell_type": "code",
   "execution_count": 70,
   "metadata": {
    "collapsed": true
   },
   "outputs": [],
   "source": [
    "from datetime import datetime\n",
    "import pandas as pd\n",
    "from glob import glob\n",
    "from os.path import basename\n",
    "from new_member import new_member"
   ]
  },
  {
   "cell_type": "code",
   "execution_count": 71,
   "metadata": {
    "collapsed": true
   },
   "outputs": [],
   "source": [
    "def get_time_slugs(timestamps):\n",
    "    \"\"\"\n",
    "    Returns a pandas Series of time slugs formatted like '2017-01-02'\n",
    "    given a pandas Series of timestamps formatted like '1/2/2016 16:20:00'\n",
    "    \"\"\"\n",
    "    time_df = pd.DataFrame()\n",
    "    time_df['month'], time_df['day'], time_df['year'] = timestamps.str.replace(r'\\s.*', '').str.split('/').str\n",
    "    time_slugs = pd.to_datetime(time_df).dt.strftime(\"%Y-%m-%d\")\n",
    "    return time_slugs"
   ]
  },
  {
   "cell_type": "code",
   "execution_count": 72,
   "metadata": {
    "collapsed": false
   },
   "outputs": [
    {
     "name": "stdout",
     "output_type": "stream",
     "text": [
      "Slugs associated with all current members:\n"
     ]
    },
    {
     "data": {
      "text/plain": [
       "['ben-lindsay', 'jennifer-hwang', 'rishabh-gupta', 'mayank-darbari']"
      ]
     },
     "execution_count": 72,
     "metadata": {},
     "output_type": "execute_result"
    }
   ],
   "source": [
    "member_files = glob('members/_posts/*')\n",
    "member_slugs = [basename(f)[11:-3] for f in member_files]\n",
    "print('Slugs associated with all current members:')\n",
    "member_slugs"
   ]
  },
  {
   "cell_type": "code",
   "execution_count": 73,
   "metadata": {
    "collapsed": false
   },
   "outputs": [
    {
     "name": "stdout",
     "output_type": "stream",
     "text": [
      "Original Dataframe:\n"
     ]
    },
    {
     "data": {
      "text/html": [
       "<div>\n",
       "<table border=\"1\" class=\"dataframe\">\n",
       "  <thead>\n",
       "    <tr style=\"text-align: right;\">\n",
       "      <th></th>\n",
       "      <th>Timestamp</th>\n",
       "      <th>Email</th>\n",
       "      <th>Name</th>\n",
       "      <th>School</th>\n",
       "      <th>Degree</th>\n",
       "      <th>Program</th>\n",
       "      <th>Grad Year</th>\n",
       "      <th>Python</th>\n",
       "      <th>R</th>\n",
       "      <th>Mailing List</th>\n",
       "      <th>Team Projects</th>\n",
       "      <th>Comments</th>\n",
       "    </tr>\n",
       "  </thead>\n",
       "  <tbody>\n",
       "    <tr>\n",
       "      <th>0</th>\n",
       "      <td>12/14/2016 19:23:37</td>\n",
       "      <td>adedotun@wharton.upenn.edu</td>\n",
       "      <td>Adedotun Adejare</td>\n",
       "      <td>Wharton</td>\n",
       "      <td>Bachelors</td>\n",
       "      <td></td>\n",
       "      <td></td>\n",
       "      <td>2</td>\n",
       "      <td>1</td>\n",
       "      <td>Yes</td>\n",
       "      <td>Not Sure</td>\n",
       "      <td></td>\n",
       "    </tr>\n",
       "    <tr>\n",
       "      <th>1</th>\n",
       "      <td>12/23/2016 22:42:22</td>\n",
       "      <td>test@example.com</td>\n",
       "      <td>Jimmy Fallon</td>\n",
       "      <td>SEAS</td>\n",
       "      <td>JD</td>\n",
       "      <td>CIS</td>\n",
       "      <td>2019</td>\n",
       "      <td>5</td>\n",
       "      <td>1</td>\n",
       "      <td>Yes</td>\n",
       "      <td>Yes</td>\n",
       "      <td></td>\n",
       "    </tr>\n",
       "  </tbody>\n",
       "</table>\n",
       "</div>"
      ],
      "text/plain": [
       "             Timestamp                       Email              Name   School  \\\n",
       "0  12/14/2016 19:23:37  adedotun@wharton.upenn.edu  Adedotun Adejare  Wharton   \n",
       "1  12/23/2016 22:42:22            test@example.com      Jimmy Fallon     SEAS   \n",
       "\n",
       "      Degree Program Grad Year Python  R Mailing List Team Projects Comments  \n",
       "0  Bachelors                        2  1          Yes      Not Sure           \n",
       "1         JD     CIS      2019      5  1          Yes           Yes           "
      ]
     },
     "execution_count": 73,
     "metadata": {},
     "output_type": "execute_result"
    }
   ],
   "source": [
    "col_names = ['Timestamp', 'Email', 'Name', 'School', 'Degree', 'Program', 'Grad Year',\n",
    "             'Python', 'R', 'Mailing List', 'Team Projects', 'Comments']\n",
    "df = pd.read_csv(CSV_PATH, dtype=str)\n",
    "df = df.fillna('')\n",
    "df.columns = col_names\n",
    "print(\"Original Dataframe:\")\n",
    "df.head()"
   ]
  },
  {
   "cell_type": "code",
   "execution_count": 74,
   "metadata": {
    "collapsed": false
   },
   "outputs": [
    {
     "name": "stdout",
     "output_type": "stream",
     "text": [
      "Dataframe of people interested in team projects:\n"
     ]
    },
    {
     "data": {
      "text/html": [
       "<div>\n",
       "<table border=\"1\" class=\"dataframe\">\n",
       "  <thead>\n",
       "    <tr style=\"text-align: right;\">\n",
       "      <th></th>\n",
       "      <th>Timestamp</th>\n",
       "      <th>Email</th>\n",
       "      <th>Name</th>\n",
       "      <th>Name Slug</th>\n",
       "      <th>Deg String</th>\n",
       "    </tr>\n",
       "  </thead>\n",
       "  <tbody>\n",
       "    <tr>\n",
       "      <th>1</th>\n",
       "      <td>2016-12-23</td>\n",
       "      <td>test at example.com</td>\n",
       "      <td>Jimmy Fallon</td>\n",
       "      <td>jimmy-fallon</td>\n",
       "      <td>JD CIS 2019</td>\n",
       "    </tr>\n",
       "  </tbody>\n",
       "</table>\n",
       "</div>"
      ],
      "text/plain": [
       "    Timestamp                Email          Name     Name Slug   Deg String\n",
       "1  2016-12-23  test at example.com  Jimmy Fallon  jimmy-fallon  JD CIS 2019"
      ]
     },
     "execution_count": 74,
     "metadata": {},
     "output_type": "execute_result"
    }
   ],
   "source": [
    "df = df[df.iloc[:,-2] == 'Yes']\n",
    "df['Timestamp'] = get_time_slugs(df['Timestamp'])\n",
    "df['Email'] = df['Email'].str.replace(u'@', ' at ')\n",
    "df['Name Slug'] = df['Name'].str.lower().str.replace(' ', '-')\n",
    "df['Deg String'] = df['Degree'].str.cat([df['Program'], df['Grad Year']], sep=' ')\n",
    "df = df[['Timestamp', 'Email', 'Name', 'Name Slug', 'Deg String']]\n",
    "print('Dataframe of people interested in team projects:')\n",
    "df.head()"
   ]
  },
  {
   "cell_type": "code",
   "execution_count": 75,
   "metadata": {
    "collapsed": false
   },
   "outputs": [
    {
     "name": "stdout",
     "output_type": "stream",
     "text": [
      "Dataframe of people interested in team projects who don't already have a profile:\n"
     ]
    },
    {
     "data": {
      "text/html": [
       "<div>\n",
       "<table border=\"1\" class=\"dataframe\">\n",
       "  <thead>\n",
       "    <tr style=\"text-align: right;\">\n",
       "      <th></th>\n",
       "      <th>Timestamp</th>\n",
       "      <th>Email</th>\n",
       "      <th>Name</th>\n",
       "      <th>Name Slug</th>\n",
       "      <th>Deg String</th>\n",
       "    </tr>\n",
       "  </thead>\n",
       "  <tbody>\n",
       "    <tr>\n",
       "      <th>1</th>\n",
       "      <td>2016-12-23</td>\n",
       "      <td>test at example.com</td>\n",
       "      <td>Jimmy Fallon</td>\n",
       "      <td>jimmy-fallon</td>\n",
       "      <td>JD CIS 2019</td>\n",
       "    </tr>\n",
       "  </tbody>\n",
       "</table>\n",
       "</div>"
      ],
      "text/plain": [
       "    Timestamp                Email          Name     Name Slug   Deg String\n",
       "1  2016-12-23  test at example.com  Jimmy Fallon  jimmy-fallon  JD CIS 2019"
      ]
     },
     "execution_count": 75,
     "metadata": {},
     "output_type": "execute_result"
    }
   ],
   "source": [
    "df = df[~df['Name Slug'].isin(member_slugs)]\n",
    "print(\"Dataframe of people interested in team projects who don't already have a profile:\")\n",
    "df.head()"
   ]
  },
  {
   "cell_type": "code",
   "execution_count": 76,
   "metadata": {
    "collapsed": false
   },
   "outputs": [
    {
     "name": "stdout",
     "output_type": "stream",
     "text": [
      "File created -> members/_posts/2016-12-23-jimmy-fallon.md\n",
      "Edit this file and add square profile picture at images/members/jimmy-fallon.jpg\n"
     ]
    }
   ],
   "source": [
    "row = None\n",
    "for index, row in df.iterrows():\n",
    "    new_member(row['Name'], deg_string=row['Deg String'], date_slug=row['Timestamp'], email=row['Email'])\n",
    "if row is None:\n",
    "    print(\"There are no new member profiles to create.\")"
   ]
  }
 ],
 "metadata": {
  "anaconda-cloud": {},
  "kernelspec": {
   "display_name": "Python [default]",
   "language": "python",
   "name": "python2"
  },
  "language_info": {
   "codemirror_mode": {
    "name": "ipython",
    "version": 2
   },
   "file_extension": ".py",
   "mimetype": "text/x-python",
   "name": "python",
   "nbconvert_exporter": "python",
   "pygments_lexer": "ipython2",
   "version": "2.7.12"
  }
 },
 "nbformat": 4,
 "nbformat_minor": 1
}
